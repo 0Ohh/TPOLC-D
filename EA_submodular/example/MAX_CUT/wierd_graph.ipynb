{
 "cells": [
  {
   "cell_type": "code",
   "execution_count": 46,
   "id": "initial_id",
   "metadata": {
    "collapsed": true,
    "ExecuteTime": {
     "end_time": "2024-05-24T15:45:09.435500800Z",
     "start_time": "2024-05-24T15:45:09.429517500Z"
    }
   },
   "outputs": [],
   "source": [
    "import numpy as np\n",
    "\n",
    "graph = np.zeros([800, 800], dtype='int')"
   ]
  },
  {
   "cell_type": "code",
   "execution_count": 47,
   "outputs": [
    {
     "data": {
      "text/plain": "array([  6,  14,  24,  36,  39,  68, 113, 114, 117, 141, 172, 189, 223,\n       266, 292, 332, 374, 385, 414, 420, 437, 443, 451, 465, 475, 481,\n       493, 508, 516, 518, 527, 533, 537, 563, 573, 609, 649, 669, 677,\n       680, 686, 696, 699, 702, 739, 753])"
     },
     "execution_count": 47,
     "metadata": {},
     "output_type": "execute_result"
    }
   ],
   "source": [
    "select_specials = np.unique(np.random.randint(0, 800, size=50))\n",
    "select_specials"
   ],
   "metadata": {
    "collapsed": false,
    "ExecuteTime": {
     "end_time": "2024-05-24T15:45:09.438711500Z",
     "start_time": "2024-05-24T15:45:09.434500700Z"
    }
   },
   "id": "78d9c9e1f218e286"
  },
  {
   "cell_type": "code",
   "execution_count": 48,
   "outputs": [],
   "source": [
    "for ni in select_specials:\n",
    "    connect_to = np.unique(np.random.randint(0, 800, size=np.random.randint(300, 500)))\n",
    "    graph[ni, connect_to] = 1\n",
    "    graph[connect_to, ni] = 1\n",
    "    \n",
    "    "
   ],
   "metadata": {
    "collapsed": false,
    "ExecuteTime": {
     "end_time": "2024-05-24T15:45:09.454087500Z",
     "start_time": "2024-05-24T15:45:09.438711500Z"
    }
   },
   "id": "8750bfcd8ff12aab"
  },
  {
   "cell_type": "code",
   "execution_count": 56,
   "outputs": [
    {
     "name": "stdout",
     "output_type": "stream",
     "text": [
      "done\n"
     ]
    }
   ],
   "source": [
    "with open('graph.txt', 'w') as f:\n",
    "    for i in range(800):\n",
    "        for j in range(i+1, 800):\n",
    "            if graph[i, j] == 1:\n",
    "                f.write(str(i) + ' ' + str(j) + '\\n')\n",
    "    \n",
    "    f.close()\n",
    "print('done')"
   ],
   "metadata": {
    "collapsed": false,
    "ExecuteTime": {
     "end_time": "2024-05-24T15:52:07.675969500Z",
     "start_time": "2024-05-24T15:52:07.627311600Z"
    }
   },
   "id": "b599809374a43783"
  },
  {
   "cell_type": "code",
   "execution_count": 67,
   "outputs": [
    {
     "name": "stdout",
     "output_type": "stream",
     "text": [
      "[[1 0 3 4 0]\n",
      " [2 0 3 4 0]\n",
      " [3 0 3 4 0]\n",
      " [4 0 1 1 0]\n",
      " [5 0 3 4 0]]\n",
      "[[0 0 0 0 0]\n",
      " [2 0 3 4 0]\n",
      " [0 0 0 0 0]\n",
      " [0 0 0 0 0]\n",
      " [5 0 3 4 0]]\n"
     ]
    }
   ],
   "source": [
    "gr = np.array([\n",
    "    [1, 2, 3, 4, 5],\n",
    "    [2, 2, 3, 4, 5],\n",
    "    [3, 2, 3, 4, 1],\n",
    "    [4, 1, 1, 1, 1],\n",
    "    [5, 2, 3, 4, 1]\n",
    "])\n",
    "x = np.array([\n",
    "    1, 0, 1, 1, 0\n",
    "])\n",
    "m1 = np.multiply(x, gr)\n",
    "print(m1)\n",
    "nx = 1 - x\n",
    "m2 = np.multiply(nx.reshape(-1, 1), m1)\n",
    "print(m2)"
   ],
   "metadata": {
    "collapsed": false,
    "ExecuteTime": {
     "end_time": "2024-05-24T16:19:07.524986200Z",
     "start_time": "2024-05-24T16:19:07.520545500Z"
    }
   },
   "id": "d216b9cdaa20fd2f"
  }
 ],
 "metadata": {
  "kernelspec": {
   "display_name": "Python 3",
   "language": "python",
   "name": "python3"
  },
  "language_info": {
   "codemirror_mode": {
    "name": "ipython",
    "version": 2
   },
   "file_extension": ".py",
   "mimetype": "text/x-python",
   "name": "python",
   "nbconvert_exporter": "python",
   "pygments_lexer": "ipython2",
   "version": "2.7.6"
  }
 },
 "nbformat": 4,
 "nbformat_minor": 5
}
